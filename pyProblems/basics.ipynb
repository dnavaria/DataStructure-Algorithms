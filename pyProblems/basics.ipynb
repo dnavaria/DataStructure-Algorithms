{
 "cells": [
  {
   "cell_type": "code",
   "execution_count": 3,
   "metadata": {
    "ExecuteTime": {
     "end_time": "2023-12-26T21:08:18.389743275Z",
     "start_time": "2023-12-26T21:08:18.383408078Z"
    }
   },
   "outputs": [
    {
     "data": {
      "text/plain": "8"
     },
     "execution_count": 3,
     "metadata": {},
     "output_type": "execute_result"
    }
   ],
   "source": [
    "def count_factors_of2(A):\n",
    "    count = 0\n",
    "    i = 1\n",
    "    while i*i <= A:\n",
    "        if A % i == 0:\n",
    "            count += 1 if i == A // i else 2\n",
    "        i+=1\n",
    "    return count\n",
    "    \n",
    "count_factors_of2(24)"
   ]
  },
  {
   "cell_type": "code",
   "execution_count": 2,
   "metadata": {
    "ExecuteTime": {
     "end_time": "2023-12-26T21:08:16.791922278Z",
     "start_time": "2023-12-26T21:08:16.783394995Z"
    }
   },
   "outputs": [
    {
     "data": {
      "text/plain": "1"
     },
     "execution_count": 2,
     "metadata": {},
     "output_type": "execute_result"
    }
   ],
   "source": [
    "def is_prime(A):\n",
    "    count = 0\n",
    "    i = 1\n",
    "    while i*i <= A:\n",
    "        if A % i == 0:\n",
    "            count += 1 if i == A // i else 2\n",
    "        i+=1\n",
    "    return 1 if count == 2 else 0\n",
    "is_prime(11)"
   ]
  },
  {
   "cell_type": "code",
   "execution_count": 1,
   "metadata": {
    "ExecuteTime": {
     "end_time": "2023-12-26T21:08:11.368189851Z",
     "start_time": "2023-12-26T21:08:11.340293537Z"
    }
   },
   "outputs": [
    {
     "data": {
      "text/plain": "5"
     },
     "execution_count": 1,
     "metadata": {},
     "output_type": "execute_result"
    }
   ],
   "source": [
    "def perfect_number(A):\n",
    "    count = 0\n",
    "    i = 1\n",
    "    while i*i <= A:\n",
    "        if i*i == A:\n",
    "            return i\n",
    "        i+=1\n",
    "    return -1\n",
    "perfect_number(25)"
   ]
  },
  {
   "cell_type": "code",
   "outputs": [
    {
     "data": {
      "text/plain": "15"
     },
     "execution_count": 2,
     "metadata": {},
     "output_type": "execute_result"
    }
   ],
   "source": [
    "def is_prime(A):\n",
    "    count = 0\n",
    "    i = 1\n",
    "    while i*i <= A:\n",
    "        if A % i == 0:\n",
    "            count += 1 if i == A // i else 2\n",
    "        i+=1\n",
    "    return 1 if count == 2 else 0\n",
    "\n",
    "def count_of_primes(A):\n",
    "    count = 0\n",
    "    i = 2\n",
    "    while i <= A:\n",
    "        if is_prime(i):\n",
    "            count+=1\n",
    "        i+=1\n",
    "    return count\n",
    "count_of_primes(50)"
   ],
   "metadata": {
    "collapsed": false,
    "ExecuteTime": {
     "end_time": "2023-12-26T21:27:48.748684882Z",
     "start_time": "2023-12-26T21:27:48.706183120Z"
    }
   },
   "execution_count": 2
  },
  {
   "cell_type": "code",
   "outputs": [],
   "source": [
    "def mango_shakes_count(A, B):\n",
    "    return ((A * 3) + B )// 2"
   ],
   "metadata": {
    "collapsed": false
   }
  }
 ],
 "metadata": {
  "kernelspec": {
   "display_name": "Python 3",
   "language": "python",
   "name": "python3"
  },
  "language_info": {
   "codemirror_mode": {
    "name": "ipython",
    "version": 3
   },
   "file_extension": ".py",
   "mimetype": "text/x-python",
   "name": "python",
   "nbconvert_exporter": "python",
   "pygments_lexer": "ipython3",
   "version": "3.10.12"
  }
 },
 "nbformat": 4,
 "nbformat_minor": 2
}
